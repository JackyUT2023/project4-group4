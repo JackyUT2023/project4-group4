{
 "cells": [
  {
   "cell_type": "markdown",
   "metadata": {},
   "source": [
    "### Creating the Database\n",
    "* In order to create the database, please ensure `sqlalchemy_utils` and `psycopg2` has been installed in your local machine."
   ]
  },
  {
   "cell_type": "code",
   "execution_count": null,
   "metadata": {},
   "outputs": [],
   "source": [
    "# Import for creating a new database\n",
    "# Note: make sure to install sqlalchemy_utils and psycopg2\n",
    "from sqlalchemy_utils import database_exists, create_database\n",
    "from sqlalchemy import create_engine\n",
    "# Import classes to declare columns and column data types\n",
    "from sqlalchemy import Column, Integer, String, Float, LargeBinary\n",
    "# Import Base for which classes will be constructed \n",
    "from sqlalchemy.ext.declarative import declarative_base"
   ]
  },
  {
   "cell_type": "markdown",
   "metadata": {},
   "source": [
    "* Please change `owner_username` and `password` accordingly, based on your database setup information."
   ]
  },
  {
   "cell_type": "code",
   "execution_count": null,
   "metadata": {},
   "outputs": [],
   "source": [
    "# Creating the database\n",
    "\n",
    "owner_username = 'postgres'\n",
    "password = 'jacky%402023'\n",
    "host_name_address = 'localhost'\n",
    "\n",
    "engine = create_engine(f\"postgresql://{owner_username}:{password}@{host_name_address}/project4_db\")\n",
    "\n",
    "if not database_exists(engine.url):\n",
    "    create_database(engine.url)\n",
    "\n",
    "if database_exists(engine.url):\n",
    "    print('Database was created successfully!')\n",
    "else:\n",
    "    print('Something went wrong.')"
   ]
  },
  {
   "cell_type": "markdown",
   "metadata": {},
   "source": [
    "* Declare classes that will become the tables"
   ]
  },
  {
   "cell_type": "code",
   "execution_count": null,
   "metadata": {},
   "outputs": [],
   "source": [
    "# Declare classes that will become the tables\n",
    "Base = declarative_base()\n",
    "\n",
    "# Create the Contacts class\n",
    "class TrainImages(Base):\n",
    "    __tablename__ = 'trainimages'\n",
    "    image_id = Column(Integer, primary_key=True)\n",
    "    file_name = Column(String)\n",
    "    image_content = Column(LargeBinary)\n",
    "\n",
    "class PriceTable(Base):\n",
    "    __tablename__ = 'pricetable'\n",
    "    id = Column(Integer, primary_key=True)\n",
    "    Brand = Column(String)\n",
    "    Category = Column(String)\n",
    "    Color = Column(String)\n",
    "    Size = Column(String)\n",
    "    Material = Column(String)\n",
    "    Price = Column(Float)\n",
    "\n",
    "# Create tables\n",
    "Base.metadata.create_all(engine)"
   ]
  },
  {
   "cell_type": "markdown",
   "metadata": {},
   "source": [
    "### Extract Data From Raw Material Data Sources"
   ]
  },
  {
   "cell_type": "markdown",
   "metadata": {},
   "source": [
    "* Extract data from `clothes_price_prediction_data.csv`"
   ]
  },
  {
   "cell_type": "code",
   "execution_count": 11,
   "metadata": {},
   "outputs": [
    {
     "name": "stdout",
     "output_type": "stream",
     "text": [
      "There are 1000 row in the dataframe.\n",
      "==================================================\n",
      "          Brand Category  Color Size Material  Price\n",
      "0   New Balance    Dress  White   XS    Nylon    182\n",
      "1   New Balance    Jeans  Black   XS     Silk     57\n",
      "2  Under Armour    Dress    Red    M     Wool    127\n",
      "3          Nike    Shoes  Green    M   Cotton     77\n",
      "4        Adidas  Sweater  White    M    Nylon    113\n"
     ]
    }
   ],
   "source": [
    "#  Import and read the clothes_price_prediction_data.csv\n",
    "import pandas as pd \n",
    "df = pd.read_csv(\"clothes_price_prediction_data.csv\")\n",
    "print(f'There are {len(df)} row in the dataframe.')\n",
    "print('='*50)\n",
    "print(df.head())\n"
   ]
  },
  {
   "cell_type": "markdown",
   "metadata": {},
   "source": [
    "* Extract data from images"
   ]
  },
  {
   "cell_type": "code",
   "execution_count": null,
   "metadata": {},
   "outputs": [],
   "source": [
    "# import cv2\n",
    "# import os\n",
    "\n",
    "# def load_images_from_folder(folder):\n",
    "#     images = []\n",
    "#     for filename in os.listdir(folder):\n",
    "#         img = cv2.imread(os.path.join(folder,filename))\n",
    "#         if img is not None:\n",
    "#             images.append(img)\n",
    "#     return images\n",
    "\n",
    "# OR ---------------------------------------------------------------\n",
    "# from skimage.io import imread_collection\n",
    "\n",
    "# #your path \n",
    "# col_dir = 'cats/*.jpg'\n",
    "\n",
    "# #creating a collection with the available images\n",
    "# col = imread_collection(col_dir)\n",
    "# # You can create a collection and access elements the standard way, i.e. col[index]. This will give you the RGB values."
   ]
  },
  {
   "cell_type": "markdown",
   "metadata": {},
   "source": [
    "### Load Data to Database"
   ]
  },
  {
   "cell_type": "code",
   "execution_count": null,
   "metadata": {},
   "outputs": [],
   "source": [
    "from sqlalchemy.orm import sessionmaker\n",
    "from sqlalchemy import delete"
   ]
  },
  {
   "cell_type": "markdown",
   "metadata": {},
   "source": [
    "* Load CSV Data to Database"
   ]
  },
  {
   "cell_type": "code",
   "execution_count": null,
   "metadata": {},
   "outputs": [],
   "source": [
    "# Define function to add df to database table\n",
    "# How to use method:\n",
    "# https://pandas.pydata.org/docs/reference/api/pandas.DataFrame.to_sql.html\n",
    "def add_df_to_db(table_name, df):\n",
    "    engine.execute(f\"DELETE FROM {table_name}\")\n",
    "\n",
    "    rows_added = df.to_sql(table_name, engine, if_exists='append', index=False)\n",
    "\n",
    "    print(f\"{rows_added} rows were added successfully to {table_name} table.\")\n",
    "\n",
    "\n",
    "# Add contacts df to database\n",
    "add_df_to_db('pricetable', df)"
   ]
  },
  {
   "cell_type": "markdown",
   "metadata": {},
   "source": [
    "* Load Image Data to Database"
   ]
  },
  {
   "cell_type": "code",
   "execution_count": null,
   "metadata": {},
   "outputs": [],
   "source": [
    "# Create a session maker\n",
    "Session = sessionmaker(bind=engine)\n",
    "\n",
    "# Create a session\n",
    "session = Session()\n",
    "\n",
    "# Clear the TrainImages table\n",
    "session.execute(delete(TrainImages))\n",
    "\n",
    "# Commit the deletion\n",
    "session.commit()\n",
    "\n",
    "# Loop over each image loaded from S3\n",
    "for idx, img in enumerate(images):\n",
    "    # Generate a unique file name\n",
    "    file_name = f'image_{idx}.png'\n",
    "\n",
    "    # Convert image to bytes\n",
    "    with BytesIO() as output:\n",
    "        plt.imsave(output, img, format='png')\n",
    "        image_data = output.getvalue()\n",
    "\n",
    "    # Create a new TrainImages instance and set its attributes\n",
    "    image_instance = TrainImages(file_name=file_name, image_content=image_data)\n",
    "\n",
    "    # Add the instance to the session\n",
    "    session.add(image_instance)\n",
    "\n",
    "# Commit the changes to the database\n",
    "session.commit()\n",
    "\n",
    "# Query all records from the TrainImages table and print file names\n",
    "train_images = session.query(TrainImages).all()\n",
    "for image in train_images:\n",
    "    print(image.file_name)\n",
    "\n",
    "# Close the session\n",
    "session.close()"
   ]
  }
 ],
 "metadata": {
  "kernelspec": {
   "display_name": "dev",
   "language": "python",
   "name": "python3"
  },
  "language_info": {
   "codemirror_mode": {
    "name": "ipython",
    "version": 3
   },
   "file_extension": ".py",
   "mimetype": "text/x-python",
   "name": "python",
   "nbconvert_exporter": "python",
   "pygments_lexer": "ipython3",
   "version": "3.10.12"
  }
 },
 "nbformat": 4,
 "nbformat_minor": 2
}
